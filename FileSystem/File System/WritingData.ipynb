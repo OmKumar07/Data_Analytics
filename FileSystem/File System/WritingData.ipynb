{
 "cells": [
  {
   "cell_type": "code",
   "execution_count": 10,
   "id": "d3719241-37f8-416f-8489-a00deae2c285",
   "metadata": {},
   "outputs": [],
   "source": [
    "fd = open('data2.txt','w')"
   ]
  },
  {
   "cell_type": "code",
   "execution_count": 12,
   "id": "6bbc1202-44ea-42bd-bd11-6e2c2c728b5f",
   "metadata": {},
   "outputs": [],
   "source": [
    "fd.write(\"Helloooo\")\n",
    "fd.close()"
   ]
  },
  {
   "cell_type": "code",
   "execution_count": 24,
   "id": "0a742988-6128-47c3-a0da-905441b890e2",
   "metadata": {},
   "outputs": [
    {
     "name": "stdin",
     "output_type": "stream",
     "text": [
      "Your Text hello this is omm\n"
     ]
    }
   ],
   "source": [
    "fd = open('data2.txt','a')\n",
    "txt = input(\"Your Text\")\n",
    "txt = txt + '.\\n'\n",
    "fd.write(txt)\n",
    "fd.close();"
   ]
  },
  {
   "cell_type": "code",
   "execution_count": null,
   "id": "b4169f25-d585-4096-b208-108b38a7abd4",
   "metadata": {},
   "outputs": [],
   "source": []
  }
 ],
 "metadata": {
  "kernelspec": {
   "display_name": "Python [conda env:base] *",
   "language": "python",
   "name": "conda-base-py"
  },
  "language_info": {
   "codemirror_mode": {
    "name": "ipython",
    "version": 3
   },
   "file_extension": ".py",
   "mimetype": "text/x-python",
   "name": "python",
   "nbconvert_exporter": "python",
   "pygments_lexer": "ipython3",
   "version": "3.12.7"
  }
 },
 "nbformat": 4,
 "nbformat_minor": 5
}
