{
 "cells": [
  {
   "cell_type": "code",
   "execution_count": 31,
   "id": "c963f219-5543-46c9-a8ec-efb4e3c0db77",
   "metadata": {},
   "outputs": [],
   "source": [
    "fd = open('data.txt','r')\n",
    "txt = fd.read()\n",
    "fd.close()"
   ]
  },
  {
   "cell_type": "code",
   "execution_count": 43,
   "id": "00fef12d-451c-4e85-954d-b43df3c2a249",
   "metadata": {},
   "outputs": [
    {
     "data": {
      "text/plain": [
       "6"
      ]
     },
     "execution_count": 43,
     "metadata": {},
     "output_type": "execute_result"
    }
   ],
   "source": [
    "per = txt.split(\"\\n\\n\")\n",
    "len(per)"
   ]
  },
  {
   "cell_type": "code",
   "execution_count": 57,
   "id": "36a3e130-8df6-45d1-8468-3fcd978cb41c",
   "metadata": {},
   "outputs": [
    {
     "data": {
      "text/plain": [
       "['In November 2018, Kalinga Institute of Industrial Technology (KIIT) in Bhubaneswar experienced significant campus unrest due to violent clashes between student groups',\n",
       " ' The conflict reportedly began when law students objected to lewd comments being made to a female law student, leading to escalating tensions',\n",
       " ' On November 24, approximately 300 to 400 engineering students engaged in aggressive actions, including stone-pelting and assaults with wooden sticks, resulting in injuries to over 25 law students',\n",
       " ' The situation prompted authorities to evacuate nearly all 400 law students and several engineering students from the campus to prevent further violence',\n",
       " ' In response, the Infocity police detained five students and registered two cases related to the incident',\n",
       " ' The university administration also vacated two hostels as a precautionary measure, while clarifying that classes for various schools continued as scheduled',\n",
       " ' [11][12][13]\\n\\nDeath of Prakriti Lamsal and subsequent controversy\\nMain article: Suicide of Prakriti Lamsal\\nFollowing the death of Nepali student Prakriti Lamsal at Kalinga Institute of Industrial Technology (KIIT) on 16 February 2025, significant controversy has arisen',\n",
       " ' Lamsal, a third-year B',\n",
       " 'Tech Computer Science student, was found deceased in her hostel room, leading to widespread protests among the student body',\n",
       " '\\n\\nPrior to the incident, Lamsal had reportedly filed complaints against a fellow student, Advik Srivastava, alleging harassment and emotional blackmail',\n",
       " ' Despite these complaints, no substantial action was taken by the university administration',\n",
       " ' In the aftermath of her death, a voice recording surfaced, purportedly capturing Srivastava verbally abusing Lamsal',\n",
       " ' He was subsequently arrested at Biju Patnaik International Airport while allegedly attempting to leave the area',\n",
       " \"\\n\\nThe university's initial response to the ensuing protests involved ordering all Nepali students to vacate the campus immediately, a move that intensified the unrest and drew sharp criticism\",\n",
       " ' Reports indicated that over 500 Nepali students were forcibly evicted, with some alleging mistreatment by university security personnel during the process',\n",
       " \"\\n\\nThis incident escalated into a diplomatic concern, prompting Nepal's Prime Minister KP Sharma Oli to intervene\",\n",
       " ' The Nepalese government dispatched officials to Bhubaneswar to counsel the affected students and assess the situation',\n",
       " ' In response to mounting pressure, KIIT rescinded its eviction order and issued a formal apology',\n",
       " ' The university acknowledged its mishandling of the situation, terminated two security staff members involved in the evictions, and suspended additional officials pending further investigation',\n",
       " '\\n\\nThis incident has ignited extensive discussions regarding student safety, administrative accountability, and the efficacy of harassment complaint procedures within educational institutions',\n",
       " ' The situation remains under close scrutiny as investigations continue',\n",
       " ' [14]']"
      ]
     },
     "execution_count": 57,
     "metadata": {},
     "output_type": "execute_result"
    }
   ],
   "source": [
    "lines = txt.split(\".\")\n",
    "len(lines)\n",
    "lines"
   ]
  },
  {
   "cell_type": "code",
   "execution_count": 77,
   "id": "d8afa4aa-f154-40f5-bfae-c6abad8b9944",
   "metadata": {},
   "outputs": [
    {
     "name": "stdout",
     "output_type": "stream",
     "text": [
      "In November 2018, Kalinga Institute of Industrial Technology (KIIT) in Bhubaneswar experienced significant campus unrest due to violent clashes between student groups. The conflict reportedly began when law students objected to lewd comments being made to a female law student, leading to escalating tensions. On November 24, approximately 300 to 400 engineering students engaged in aggressive actions, including stone-pelting and assaults with wooden sticks, resulting in injuries to over 25 law students. The situation prompted authorities to evacuate nearly all 400 law students and several engineering students from the campus to prevent further violence. In response, the Infocity police detained five students and registered two cases related to the incident. The university administration also vacated two hostels as a precautionary measure, while clarifying that classes for various schools continued as scheduled. \n",
      "\n",
      "Death of Prakriti Lamsal and subsequent controversy\n",
      "Main article: Suicide of Prakriti Lamsal\n",
      "Following the death of Nepali student Prakriti Lamsal at Kalinga Institute of Industrial Technology (KIIT) on 16 February 2025, significant controversy has arisen. Lamsal, a third-year B.Tech Computer Science student, was found deceased in her hostel room, leading to widespread protests among the student body.\n",
      "\n",
      "Prior to the incident, Lamsal had reportedly filed complaints against a fellow student, Advik Srivastava, alleging harassment and emotional blackmail. Despite these complaints, no substantial action was taken by the university administration. In the aftermath of her death, a voice recording surfaced, purportedly capturing Srivastava verbally abusing Lamsal. He was subsequently arrested at Biju Patnaik International Airport while allegedly attempting to leave the area.\n",
      "\n",
      "The university's initial response to the ensuing protests involved ordering all Nepali students to vacate the campus immediately, a move that intensified the unrest and drew sharp criticism. Reports indicated that over 500 Nepali students were forcibly evicted, with some alleging mistreatment by university security personnel during the process.\n",
      "\n",
      "This incident escalated into a diplomatic concern, prompting Nepal's Prime Minister KP Sharma Oli to intervene. The Nepalese government dispatched officials to Bhubaneswar to counsel the affected students and assess the situation. In response to mounting pressure, KIIT rescinded its eviction order and issued a formal apology. The university acknowledged its mishandling of the situation, terminated two security staff members involved in the evictions, and suspended additional officials pending further investigation.\n",
      "\n",
      "This incident has ignited extensive discussions regarding student safety, administrative accountability, and the efficacy of harassment complaint procedures within educational institutions. The situation remains under close scrutiny as investigations continue. \n"
     ]
    }
   ],
   "source": [
    "for i in range(11,15):\n",
    "    pattern = \"[\"+str(i)+\"]\"\n",
    "    txt = txt.replace(pattern,\"\")\n",
    "print(txt)"
   ]
  }
 ],
 "metadata": {
  "kernelspec": {
   "display_name": "Python [conda env:base] *",
   "language": "python",
   "name": "conda-base-py"
  },
  "language_info": {
   "codemirror_mode": {
    "name": "ipython",
    "version": 3
   },
   "file_extension": ".py",
   "mimetype": "text/x-python",
   "name": "python",
   "nbconvert_exporter": "python",
   "pygments_lexer": "ipython3",
   "version": "3.12.7"
  }
 },
 "nbformat": 4,
 "nbformat_minor": 5
}
