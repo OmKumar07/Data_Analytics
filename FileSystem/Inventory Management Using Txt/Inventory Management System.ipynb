{
 "cells": [
  {
   "cell_type": "markdown",
   "id": "a01e77f4-bc45-42d3-9a8c-74e97f0ea55a",
   "metadata": {},
   "source": [
    "## Product Details\n",
    "##### Product ID\n",
    "##### Name of PRoduct\n",
    "##### Price of Product\n",
    "##### Quantity"
   ]
  },
  {
   "cell_type": "code",
   "execution_count": 33,
   "id": "25cdadc3-388d-4a55-bc73-1fa0ff161d09",
   "metadata": {},
   "outputs": [
    {
     "name": "stdin",
     "output_type": "stream",
     "text": [
      "Enter product ID:  4\n",
      "Enter product Quantity:  500\n",
      "Enter Your Name om\n",
      "Enter Your Phone Number 1234567890\n"
     ]
    },
    {
     "name": "stdout",
     "output_type": "stream",
     "text": [
      "We only have 200 Candy\n"
     ]
    },
    {
     "name": "stdin",
     "output_type": "stream",
     "text": [
      "Would You Like To Purchase it? y/n y\n"
     ]
    },
    {
     "name": "stdout",
     "output_type": "stream",
     "text": [
      "--------------------------------------------------\n",
      "Product Name          :  Candy\n",
      "Price                 :  1\n",
      "Quantity              :  200\n",
      "--------------------------------------------------\n",
      "Billing Amount        :  200\n",
      "--------------------------------------------------\n"
     ]
    }
   ],
   "source": [
    "import time \n",
    "\n",
    "fd = open('Inventory.txt','r')\n",
    "products = fd.read().split('\\n')\n",
    "fd.close()\n",
    "\n",
    "prod_id = input(\"Enter product ID: \")\n",
    "prod_qn = input(\"Enter product Quantity: \")\n",
    "name = input(\"Enter Your Name\")\n",
    "phone = input(\"Enter Your Phone Number\")\n",
    "\n",
    "updated_product_lst = []\n",
    "\n",
    "for product in products:\n",
    "    product_details = product.split(',')\n",
    "    if(product_details[0] == prod_id):\n",
    "        if(int(prod_qn) <= int(product_details[3])):\n",
    "            print(\"-\"*50)\n",
    "            print(\"Product Name          : \",product_details[1])\n",
    "            print(\"Price                 : \",product_details[2])\n",
    "            print(\"Quantity              : \",prod_qn)\n",
    "            print(\"-\"*50)\n",
    "            print(\"Billing Amount        : \",int(prod_qn) * int(product_details[2]))\n",
    "            print(\"-\"*50)\n",
    "            \n",
    "            product_details[3] = str(int(product_details[3]) - int(prod_qn))\n",
    "            fd= open('sales.txt','a')\n",
    "            sales_detail = name + ',' + phone + ',' + prod_id + ',' + product_details[1] + ',' + prod_qn + ',' + str(int(prod_qn) * int(product_details[2])) + ',' + time.ctime() + '\\n'\n",
    "            fd.write(sales_detail)\n",
    "            fd.close()\n",
    "            \n",
    "        elif(int(int(product_details[3]) <= 0)):\n",
    "            print(product_details[1],'is Currently Out Of Stock')\n",
    "        else:\n",
    "            print('We only have',product_details[3],product_details[1])\n",
    "            ch = input('Would You Like To Purchase it? y/n')\n",
    "            if(ch == 'y' or ch == 'Y'):\n",
    "                print(\"-\"*50)\n",
    "                print(\"Product Name          : \",product_details[1])\n",
    "                print(\"Price                 : \",product_details[2])\n",
    "                print(\"Quantity              : \",product_details[3])\n",
    "                print(\"-\"*50)\n",
    "                print(\"Billing Amount        : \",int(product_details[3]) * int(product_details[2]))\n",
    "                print(\"-\"*50)\n",
    "                \n",
    "                fd= open('sales.txt','a')\n",
    "                sales_detail = name + ',' + phone + ',' + prod_id + ',' + product_details[1] + ',' + product_details[3] + ',' + str(int(product_details[3]) * int(product_details[2])) + ',' + time.ctime() + '\\n'\n",
    "                fd.write(sales_detail)\n",
    "                fd.close()\n",
    "                product_details[3] = \"0\"\n",
    "                \n",
    "            else:\n",
    "                print(\"Thakyou\")\n",
    "    updated_product_lst.append(product_details)\n",
    "fd = open('Inventory.txt','w')\n",
    "for i in updated_product_lst:\n",
    "    if len(i)>=3:\n",
    "        prod = i[0] + \",\" +i[1] + ',' +i[2] + \",\" +i[3] + '\\n'\n",
    "        fd.write(prod)\n",
    "fd.close()"
   ]
  },
  {
   "cell_type": "code",
   "execution_count": null,
   "id": "a16b7233-ab98-42ce-bfc8-a7be485e601d",
   "metadata": {},
   "outputs": [],
   "source": []
  }
 ],
 "metadata": {
  "kernelspec": {
   "display_name": "Python [conda env:base] *",
   "language": "python",
   "name": "conda-base-py"
  },
  "language_info": {
   "codemirror_mode": {
    "name": "ipython",
    "version": 3
   },
   "file_extension": ".py",
   "mimetype": "text/x-python",
   "name": "python",
   "nbconvert_exporter": "python",
   "pygments_lexer": "ipython3",
   "version": "3.12.7"
  }
 },
 "nbformat": 4,
 "nbformat_minor": 5
}
